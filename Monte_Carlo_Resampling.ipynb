{
  "nbformat": 4,
  "nbformat_minor": 0,
  "metadata": {
    "colab": {
      "provenance": [],
      "authorship_tag": "ABX9TyOkvysB3JnLJVE/1qrTn5rS",
      "include_colab_link": true
    },
    "kernelspec": {
      "name": "python3",
      "display_name": "Python 3"
    },
    "language_info": {
      "name": "python"
    }
  },
  "cells": [
    {
      "cell_type": "markdown",
      "metadata": {
        "id": "view-in-github",
        "colab_type": "text"
      },
      "source": [
        "<a href=\"https://colab.research.google.com/github/hkaragah/risk_reliability/blob/main/Monte_Carlo_Resampling.ipynb\" target=\"_parent\"><img src=\"https://colab.research.google.com/assets/colab-badge.svg\" alt=\"Open In Colab\"/></a>"
      ]
    },
    {
      "cell_type": "markdown",
      "source": [
        "# Monte Carlo Simulation: Resampling"
      ],
      "metadata": {
        "id": "esb9mJGlNyOt"
      }
    },
    {
      "cell_type": "code",
      "execution_count": 10,
      "metadata": {
        "id": "-N-Mel3C7E2O"
      },
      "outputs": [],
      "source": [
        "import math\n",
        "import numpy as np\n",
        "import matplotlib.pyplot as plt\n",
        "from scipy.stats import binom"
      ]
    },
    {
      "cell_type": "code",
      "source": [
        "p = 0.5 # probability of flipping heads each flip\n",
        "n = 100 # number of coin flips per trial\n",
        "x = 45 # random variable indicating the number of heads per trial"
      ],
      "metadata": {
        "id": "ze-P-8L57SUK"
      },
      "execution_count": 2,
      "outputs": []
    },
    {
      "cell_type": "markdown",
      "source": [
        "## Question\n",
        "Find the probability that the number of heads in each trial be less than or equal to $x$.<br>\n",
        "\n",
        "One approach is to use normal distribution CDF. Using this method, we do not consider he continuity crrection that would produce a more accurate answer."
      ],
      "metadata": {
        "id": "3a0NmXD18fxW"
      }
    },
    {
      "cell_type": "code",
      "source": [
        "# Analytical approach\n",
        "mean = n * p\n",
        "std = math.sqrt(n * p * (1 - p))\n",
        "cdf = 0.5 * (1 + math.erf((x - mean) / (std * math.sqrt(2))))\n",
        "print(f'Estimate probability (using normal dist.): {cdf:.3f}')"
      ],
      "metadata": {
        "colab": {
          "base_uri": "https://localhost:8080/"
        },
        "id": "dtBkQ5r97siq",
        "outputId": "4415d5f5-52c8-49a3-d862-746d2a104b63"
      },
      "execution_count": 12,
      "outputs": [
        {
          "output_type": "stream",
          "name": "stdout",
          "text": [
            "Estimate probability (using normal dist.): 0.159\n"
          ]
        }
      ]
    },
    {
      "cell_type": "markdown",
      "source": [
        "Note that the cumulative density function (cdf) for a normal distribution is computed as\n",
        "\n",
        "$$F(x;\\mu, \\sigma) = \\frac{1}{2}\\left[1+erf\\left(\\frac{x-\\mu}{\\sigma\\sqrt{2}}\\right)\\right]$$\n",
        "\n",
        "where $\\mu = np$ and $\\sigma=\\sqrt{np(1-p)}$."
      ],
      "metadata": {
        "id": "D7YxJ4uSLDb3"
      }
    },
    {
      "cell_type": "markdown",
      "source": [
        "### <u>Error Function</u> (math.erf(...))\n",
        "\n",
        "The __error function__ (aka. __Gause error function__) is defined as follows:\n",
        "\n",
        "$$erf(z) = \\frac{2}{\\sqrt{\\pi}} \\int_{0}^{z}{e^{-t^2}dt}$$"
      ],
      "metadata": {
        "id": "Q0n9p7re8xQ_"
      }
    },
    {
      "cell_type": "code",
      "source": [
        "x0 = np.linspace(-3,3,100)\n",
        "y0 = np.array([math.erf(value) for value in x0])\n",
        "\n",
        "plt.figure(figsize=(4,4))\n",
        "plt.plot(x0,y0, color='blue')\n",
        "plt.title('Error Function (erf)')\n",
        "plt.xlabel('z')\n",
        "plt.ylabel('erf(z)')\n",
        "plt.grid(True)\n",
        "plt.show()"
      ],
      "metadata": {
        "colab": {
          "base_uri": "https://localhost:8080/",
          "height": 410
        },
        "id": "1tWUSWGY-0EC",
        "outputId": "24390001-f1ce-48c6-ce98-815c347f60a2"
      },
      "execution_count": 5,
      "outputs": [
        {
          "output_type": "display_data",
          "data": {
            "text/plain": [
              "<Figure size 400x400 with 1 Axes>"
            ],
            "image/png": "[encoded data removed]"
          },
          "metadata": {}
        }
      ]
    },
    {
      "cell_type": "code",
      "source": [
        "# Monte Carlo Approach\n",
        "N = 1000 # number of trails, each with 100 flips\n",
        "rng = np.random.default_rng() # define new random number generator\n",
        "simulation = rng.random(size=(n,N)) < p # False for tails, True for heads\n",
        "counts = np.sum(simulation, axis=0) # sum the number of heads in each trial\n",
        "proba = np.sum(counts <= x) / N # observation propotion of cases in which count did not exceed 'x'\n",
        "print(f'Estimated probability (using normal dist.): {proba:.3f} ')"
      ],
      "metadata": {
        "colab": {
          "base_uri": "https://localhost:8080/"
        },
        "id": "FA-x0tcs_8eC",
        "outputId": "a3f55110-2abb-4ccb-fb07-0a241f6723e7"
      },
      "execution_count": 9,
      "outputs": [
        {
          "output_type": "stream",
          "name": "stdout",
          "text": [
            "Observation Propotion (using normal dist.): 0.187 \n"
          ]
        }
      ]
    },
    {
      "cell_type": "code",
      "source": [
        "# Binomial distribution approach\n",
        "proba = binom.cdf(x, n, p)\n",
        "print(f'Estimate probability (using binomial dist.): {proba:.3f}')"
      ],
      "metadata": {
        "colab": {
          "base_uri": "https://localhost:8080/"
        },
        "id": "5V1k8YslBzEw",
        "outputId": "d0df0e77-f535-4bee-95cc-e526d0cee9ba"
      },
      "execution_count": 11,
      "outputs": [
        {
          "output_type": "stream",
          "name": "stdout",
          "text": [
            "Estimate probability (using binomial dist.): 0.184\n"
          ]
        }
      ]
    },
    {
      "cell_type": "markdown",
      "source": [
        "Where the binomial distribution has the following form:\n",
        "\n",
        "$$\\sum_{i=0}^{x}{\\begin{pmatrix}n\\\\i\\end{pmatrix}p^i(1-p)^{n-i}}$$"
      ],
      "metadata": {
        "id": "FnD13Z8hCbBM"
      }
    },
    {
      "cell_type": "markdown",
      "source": [
        "It is seen that the probability computed using Monte Carlo simulation is quite close to the exact probability computed using the binomial distribution."
      ],
      "metadata": {
        "id": "pNw3XKE4OAef"
      }
    }
  ]
}