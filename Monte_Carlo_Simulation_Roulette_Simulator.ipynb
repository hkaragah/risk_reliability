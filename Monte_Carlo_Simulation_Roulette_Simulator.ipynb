{
  "nbformat": 4,
  "nbformat_minor": 0,
  "metadata": {
    "colab": {
      "provenance": [],
      "authorship_tag": "ABX9TyNVaeEB4TN2aTZUpxx+MyfT",
      "include_colab_link": true
    },
    "kernelspec": {
      "name": "python3",
      "display_name": "Python 3"
    },
    "language_info": {
      "name": "python"
    }
  },
  "cells": [
    {
      "cell_type": "markdown",
      "metadata": {
        "id": "view-in-github",
        "colab_type": "text"
      },
      "source": [
        "<a href=\"https://colab.research.google.com/github/hkaragah/risk_reliability/blob/main/Monte_Carlo_Simulation_Roulette_Simulator.ipynb\" target=\"_parent\"><img src=\"https://colab.research.google.com/assets/colab-badge.svg\" alt=\"Open In Colab\"/></a>"
      ]
    },
    {
      "cell_type": "markdown",
      "source": [
        "# Monte Carlo Simulation: Roulette Simulator"
      ],
      "metadata": {
        "id": "jZQsNYR-gN50"
      }
    },
    {
      "cell_type": "code",
      "execution_count": 2,
      "metadata": {
        "id": "puVFvbbEVKyh"
      },
      "outputs": [],
      "source": [
        "# Fair Roulette has 36 numbers (from 1 to 36) all from the same color (simplified) and all has the same chance of winning a prize\n",
        "class FairRoulette():\n",
        "  def __init__(self):\n",
        "    self.pockets = []\n",
        "    for i in range(1,37):\n",
        "      self.pockets.append(i)\n",
        "    self.ball = None\n",
        "    self.pocketOdds = len(self.pockets) - 1\n",
        "\n",
        "  def spin(self):\n",
        "    self.ball = random.choice(self.pockets)\n",
        "\n",
        "  def betPocket(self, pocket, amt):\n",
        "    if str(pocket) == str(self.ball):\n",
        "      return amt * self.pocketOdds\n",
        "    else:\n",
        "      return -amt\n",
        "\n",
        "  def __str__(self):\n",
        "    return 'Fair Roulette'\n",
        "\n",
        "# European Roulette has one zero (0) in addition to those 36 numbers in Fair Roulette which has no chance of winning a prize (unfair)\n",
        "class EuRoulette(FairRoulette):\n",
        "  def __init__(self):\n",
        "    FairRoulette.__init__(self)\n",
        "    self.pockets.append('0')\n",
        "\n",
        "  def __str__(self):\n",
        "    return 'European Roulette'\n",
        "\n",
        "\n",
        "# American Roulette has one double-zero (00) in addition to those 37 numbers (1 through 36 and 0) in European Roulette which has no chance of winning a prize (more unfair)\n",
        "class AmRoulette(EuRoulette):\n",
        "  def __init__(self):\n",
        "    EuRoulette.__init__(self)\n",
        "    self.pockets.append('00')\n",
        "\n",
        "  def __str__(self):\n",
        "    return 'American Roulette'"
      ]
    },
    {
      "cell_type": "code",
      "source": [
        "from IPython.display import HTML\n",
        "\n",
        "# Your image URL\n",
        "image_url = 'https://betandslots.com/wp-content/uploads/2020/09/american-roulette-european.jpg'\n",
        "\n",
        "# Create the HTML string to embed the image\n",
        "html_str = f'<img src=\"{image_url}\" style=\"width:600px; height:auto;\" alt=\"Embedded Image\"/>'\n",
        "\n",
        "\n",
        "# Display the image in the notebook\n",
        "HTML(html_str)\n"
      ],
      "metadata": {
        "colab": {
          "base_uri": "https://localhost:8080/",
          "height": 359
        },
        "id": "XFJuFwAWjNmP",
        "outputId": "51770d80-ce50-4ed0-932e-7bb1d2db3858"
      },
      "execution_count": 22,
      "outputs": [
        {
          "output_type": "execute_result",
          "data": {
            "text/plain": [
              "<IPython.core.display.HTML object>"
            ],
            "text/html": [
              "<img src=\"https://betandslots.com/wp-content/uploads/2020/09/american-roulette-european.jpg\" style=\"width:600px; height:auto;\" alt=\"Embedded Image\"/>"
            ]
          },
          "metadata": {},
          "execution_count": 22
        }
      ]
    },
    {
      "cell_type": "code",
      "source": [
        "def playRoulette(game, numSpins, pocket, bet, toPrint):\n",
        "  totPocket = 0\n",
        "  for i in range(numSpins):\n",
        "    game.spin()\n",
        "    totPocket += game.betPocket(pocket, bet)\n",
        "  if toPrint:\n",
        "    print(numSpins, 'spins of', game)\n",
        "    print('Expected return betting', pocket, '=', str(100*totPocket/numSpins) + '%\\n')\n",
        "  return (totPocket/numSpins)"
      ],
      "metadata": {
        "id": "mKj5Ja1EVir9"
      },
      "execution_count": 3,
      "outputs": []
    },
    {
      "cell_type": "code",
      "source": [
        "import random\n",
        "\n",
        "random.seed(0)\n",
        "game = EuRoulette()\n",
        "for numSpins in (100, 1_000_000):\n",
        "  for i in range(3):\n",
        "    playRoulette(game, numSpins, 2, 1, True)"
      ],
      "metadata": {
        "colab": {
          "base_uri": "https://localhost:8080/"
        },
        "id": "ZDl5_jWBWm3p",
        "outputId": "fe49abe5-fafa-497a-d1c1-d6daf02c8e61"
      },
      "execution_count": 5,
      "outputs": [
        {
          "output_type": "stream",
          "name": "stdout",
          "text": [
            "100 spins of European Roulette\n",
            "Expected return betting 2 = -100.0%\n",
            "\n",
            "100 spins of European Roulette\n",
            "Expected return betting 2 = 44.0%\n",
            "\n",
            "100 spins of European Roulette\n",
            "Expected return betting 2 = -28.0%\n",
            "\n",
            "1000000 spins of European Roulette\n",
            "Expected return betting 2 = -2.8%\n",
            "\n",
            "1000000 spins of European Roulette\n",
            "Expected return betting 2 = -2.0512%\n",
            "\n",
            "1000000 spins of European Roulette\n",
            "Expected return betting 2 = -2.296%\n",
            "\n"
          ]
        }
      ]
    },
    {
      "cell_type": "code",
      "source": [
        "def findPocketReturn(game, numTrials, trialSize, toPrint):\n",
        "  pocketReturns = []\n",
        "  for t in range(numTrials):\n",
        "    trialVals = playRoulette(game, trialSize, 2, 1, toPrint)\n",
        "    pocketReturns.append(trialVals)\n",
        "  return pocketReturns"
      ],
      "metadata": {
        "id": "-tP-i_nAZAes"
      },
      "execution_count": 16,
      "outputs": []
    },
    {
      "cell_type": "code",
      "source": [
        "def getMeanAndStd(X):\n",
        "  try:\n",
        "    mean = sum(X)/len(X)\n",
        "    tot = 0.0\n",
        "    for x in X:\n",
        "      tot += (x - mean)**2\n",
        "    std = (tot/len(X))**0.5\n",
        "    return mean, std\n",
        "  except ZeroDivisionError:\n",
        "    print('Zero Division Error')\n",
        "  except TypeError:\n",
        "    print('Type Error')\n",
        ""
      ],
      "metadata": {
        "id": "uUph5f0bZKVN"
      },
      "execution_count": 17,
      "outputs": []
    },
    {
      "cell_type": "markdown",
      "source": [
        "### Empirical Rule\n",
        "\n",
        "Under these assumtions:\n",
        "* The mean estimation error is zero (no bias in errors), it is a valid assumption in most simulations, but it could be different in a labratory experiment where depending on the technique, there might be a bias in one direction causing the mean of error to becomes skewed in one direction.\n",
        "* Distribution of errors is normal\n",
        "\n",
        "\n",
        "The following is valid:\n",
        "* ~68% of data within one standard deviation of mean\n",
        "* ~95% of data within one standard 1.96 deviation of mean\n",
        "* ~99.7% of data within one standard 3 deviation of mean\n"
      ],
      "metadata": {
        "id": "0StOwepkbe25"
      }
    },
    {
      "cell_type": "code",
      "source": [
        "resultDict = {}\n",
        "games = (FairRoulette, EuRoulette, AmRoulette)\n",
        "\n",
        "for G in games:\n",
        "  resultDict[G().__str__()] = []\n",
        "\n",
        "for numSpins in (100, 1000, 1_000_000):\n",
        "  print('\\nSimulating', numSpins, 'spins of each game')\n",
        "  for G in games:\n",
        "    pocketRetuns = findPocketReturn(G(), 20, numSpins, False)\n",
        "    mean, std = getMeanAndStd(pocketRetuns)\n",
        "    resultDict[G().__str__()].append((numSpins, 100*mean, 100*std))\n",
        "    print('Exp. return for', G(), '=', str(round(100*mean, 3)) + '%', '+/-' + str(round(100*1.96*std, 3)) + '% with 95% confidence')"
      ],
      "metadata": {
        "colab": {
          "base_uri": "https://localhost:8080/"
        },
        "id": "iIWnIlUIW17D",
        "outputId": "be7cc58c-adc2-4af4-8008-6b0686e098c6"
      },
      "execution_count": 19,
      "outputs": [
        {
          "output_type": "stream",
          "name": "stdout",
          "text": [
            "\n",
            "Simulating 100 spins of each game\n",
            "Exp. return for Fair Roulette = 2.6% +/-118.648% with 95% confidence\n",
            "Exp. return for European Roulette = 8.0% +/-115.942% with 95% confidence\n",
            "Exp. return for American Roulette = -29.8% +/-90.567% with 95% confidence\n",
            "\n",
            "Simulating 1000 spins of each game\n",
            "Exp. return for Fair Roulette = -9.64% +/-37.86% with 95% confidence\n",
            "Exp. return for European Roulette = -1.18% +/-39.379% with 95% confidence\n",
            "Exp. return for American Roulette = -1.54% +/-33.638% with 95% confidence\n",
            "\n",
            "Simulating 1000000 spins of each game\n",
            "Exp. return for Fair Roulette = -0.061% +/-1.22% with 95% confidence\n",
            "Exp. return for European Roulette = -2.694% +/-1.091% with 95% confidence\n",
            "Exp. return for American Roulette = -5.426% +/-0.966% with 95% confidence\n"
          ]
        }
      ]
    },
    {
      "cell_type": "markdown",
      "source": [
        "## References:\n",
        "\n",
        "1. <a href=\"https://youtu.be/OgO1gpXSUzU?si=FIRFfLZPfyn8ixXR\">MIT OpenCourseWare Cannel, 6.Monte Carlo Simulation</a>"
      ],
      "metadata": {
        "id": "YjY2mLGJbBp_"
      }
    }
  ]
}